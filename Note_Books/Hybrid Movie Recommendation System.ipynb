{
 "cells": [
  {
   "cell_type": "code",
   "execution_count": 59,
   "id": "1b07254d",
   "metadata": {},
   "outputs": [],
   "source": [
    "import pandas as pd\n",
    "import numpy as np\n",
    "import re\n",
    "from sklearn.feature_extraction.text import TfidfVectorizer\n",
    "from sklearn.metrics.pairwise import cosine_similarity\n",
    "from surprise import Dataset, Reader, SVD\n",
    "from surprise.model_selection import train_test_split\n",
    "from surprise import accuracy\n",
    "from sklearn.metrics import precision_score, recall_score, f1_score\n",
    "\n",
    "import sys\n",
    "from pathlib import Path"
   ]
  },
  {
   "cell_type": "code",
   "execution_count": 60,
   "id": "742f40a5",
   "metadata": {},
   "outputs": [],
   "source": [
    "ratings = pd.read_csv('../data/ratings.csv') \n",
    "movies = pd.read_csv('../data/movies.csv')   "
   ]
  },
  {
   "cell_type": "code",
   "execution_count": 61,
   "id": "d924afd7",
   "metadata": {},
   "outputs": [
    {
     "data": {
      "application/vnd.microsoft.datawrangler.viewer.v0+json": {
       "columns": [
        {
         "name": "index",
         "rawType": "int64",
         "type": "integer"
        },
        {
         "name": "movieId",
         "rawType": "int64",
         "type": "integer"
        },
        {
         "name": "title",
         "rawType": "object",
         "type": "string"
        },
        {
         "name": "genres",
         "rawType": "object",
         "type": "string"
        }
       ],
       "ref": "ee937a75-0ed6-4209-a197-f13ec3cd7543",
       "rows": [
        [
         "0",
         "1",
         "Toy Story (1995)",
         "Adventure|Animation|Children|Comedy|Fantasy"
        ],
        [
         "1",
         "2",
         "Jumanji (1995)",
         "Adventure|Children|Fantasy"
        ],
        [
         "2",
         "3",
         "Grumpier Old Men (1995)",
         "Comedy|Romance"
        ],
        [
         "3",
         "4",
         "Waiting to Exhale (1995)",
         "Comedy|Drama|Romance"
        ],
        [
         "4",
         "5",
         "Father of the Bride Part II (1995)",
         "Comedy"
        ],
        [
         "5",
         "6",
         "Heat (1995)",
         "Action|Crime|Thriller"
        ],
        [
         "6",
         "7",
         "Sabrina (1995)",
         "Comedy|Romance"
        ],
        [
         "7",
         "8",
         "Tom and Huck (1995)",
         "Adventure|Children"
        ],
        [
         "8",
         "9",
         "Sudden Death (1995)",
         "Action"
        ],
        [
         "9",
         "10",
         "GoldenEye (1995)",
         "Action|Adventure|Thriller"
        ],
        [
         "10",
         "11",
         "American President, The (1995)",
         "Comedy|Drama|Romance"
        ],
        [
         "11",
         "12",
         "Dracula: Dead and Loving It (1995)",
         "Comedy|Horror"
        ],
        [
         "12",
         "13",
         "Balto (1995)",
         "Adventure|Animation|Children"
        ],
        [
         "13",
         "14",
         "Nixon (1995)",
         "Drama"
        ],
        [
         "14",
         "15",
         "Cutthroat Island (1995)",
         "Action|Adventure|Romance"
        ],
        [
         "15",
         "16",
         "Casino (1995)",
         "Crime|Drama"
        ],
        [
         "16",
         "17",
         "Sense and Sensibility (1995)",
         "Drama|Romance"
        ],
        [
         "17",
         "18",
         "Four Rooms (1995)",
         "Comedy"
        ],
        [
         "18",
         "19",
         "Ace Ventura: When Nature Calls (1995)",
         "Comedy"
        ],
        [
         "19",
         "20",
         "Money Train (1995)",
         "Action|Comedy|Crime|Drama|Thriller"
        ],
        [
         "20",
         "21",
         "Get Shorty (1995)",
         "Comedy|Crime|Thriller"
        ],
        [
         "21",
         "22",
         "Copycat (1995)",
         "Crime|Drama|Horror|Mystery|Thriller"
        ],
        [
         "22",
         "23",
         "Assassins (1995)",
         "Action|Crime|Thriller"
        ],
        [
         "23",
         "24",
         "Powder (1995)",
         "Drama|Sci-Fi"
        ],
        [
         "24",
         "25",
         "Leaving Las Vegas (1995)",
         "Drama|Romance"
        ],
        [
         "25",
         "26",
         "Othello (1995)",
         "Drama"
        ],
        [
         "26",
         "27",
         "Now and Then (1995)",
         "Children|Drama"
        ],
        [
         "27",
         "28",
         "Persuasion (1995)",
         "Drama|Romance"
        ],
        [
         "28",
         "29",
         "City of Lost Children, The (Cité des enfants perdus, La) (1995)",
         "Adventure|Drama|Fantasy|Mystery|Sci-Fi"
        ],
        [
         "29",
         "30",
         "Shanghai Triad (Yao a yao yao dao waipo qiao) (1995)",
         "Crime|Drama"
        ],
        [
         "30",
         "31",
         "Dangerous Minds (1995)",
         "Drama"
        ],
        [
         "31",
         "32",
         "Twelve Monkeys (a.k.a. 12 Monkeys) (1995)",
         "Mystery|Sci-Fi|Thriller"
        ],
        [
         "32",
         "34",
         "Babe (1995)",
         "Children|Drama"
        ],
        [
         "33",
         "36",
         "Dead Man Walking (1995)",
         "Crime|Drama"
        ],
        [
         "34",
         "38",
         "It Takes Two (1995)",
         "Children|Comedy"
        ],
        [
         "35",
         "39",
         "Clueless (1995)",
         "Comedy|Romance"
        ],
        [
         "36",
         "40",
         "Cry, the Beloved Country (1995)",
         "Drama"
        ],
        [
         "37",
         "41",
         "Richard III (1995)",
         "Drama|War"
        ],
        [
         "38",
         "42",
         "Dead Presidents (1995)",
         "Action|Crime|Drama"
        ],
        [
         "39",
         "43",
         "Restoration (1995)",
         "Drama"
        ],
        [
         "40",
         "44",
         "Mortal Kombat (1995)",
         "Action|Adventure|Fantasy"
        ],
        [
         "41",
         "45",
         "To Die For (1995)",
         "Comedy|Drama|Thriller"
        ],
        [
         "42",
         "46",
         "How to Make an American Quilt (1995)",
         "Drama|Romance"
        ],
        [
         "43",
         "47",
         "Seven (a.k.a. Se7en) (1995)",
         "Mystery|Thriller"
        ],
        [
         "44",
         "48",
         "Pocahontas (1995)",
         "Animation|Children|Drama|Musical|Romance"
        ],
        [
         "45",
         "49",
         "When Night Is Falling (1995)",
         "Drama|Romance"
        ],
        [
         "46",
         "50",
         "Usual Suspects, The (1995)",
         "Crime|Mystery|Thriller"
        ],
        [
         "47",
         "52",
         "Mighty Aphrodite (1995)",
         "Comedy|Drama|Romance"
        ],
        [
         "48",
         "53",
         "Lamerica (1994)",
         "Adventure|Drama"
        ],
        [
         "49",
         "54",
         "Big Green, The (1995)",
         "Children|Comedy"
        ]
       ],
       "shape": {
        "columns": 3,
        "rows": 9742
       }
      },
      "text/html": [
       "<div>\n",
       "<style scoped>\n",
       "    .dataframe tbody tr th:only-of-type {\n",
       "        vertical-align: middle;\n",
       "    }\n",
       "\n",
       "    .dataframe tbody tr th {\n",
       "        vertical-align: top;\n",
       "    }\n",
       "\n",
       "    .dataframe thead th {\n",
       "        text-align: right;\n",
       "    }\n",
       "</style>\n",
       "<table border=\"1\" class=\"dataframe\">\n",
       "  <thead>\n",
       "    <tr style=\"text-align: right;\">\n",
       "      <th></th>\n",
       "      <th>movieId</th>\n",
       "      <th>title</th>\n",
       "      <th>genres</th>\n",
       "    </tr>\n",
       "  </thead>\n",
       "  <tbody>\n",
       "    <tr>\n",
       "      <th>0</th>\n",
       "      <td>1</td>\n",
       "      <td>Toy Story (1995)</td>\n",
       "      <td>Adventure|Animation|Children|Comedy|Fantasy</td>\n",
       "    </tr>\n",
       "    <tr>\n",
       "      <th>1</th>\n",
       "      <td>2</td>\n",
       "      <td>Jumanji (1995)</td>\n",
       "      <td>Adventure|Children|Fantasy</td>\n",
       "    </tr>\n",
       "    <tr>\n",
       "      <th>2</th>\n",
       "      <td>3</td>\n",
       "      <td>Grumpier Old Men (1995)</td>\n",
       "      <td>Comedy|Romance</td>\n",
       "    </tr>\n",
       "    <tr>\n",
       "      <th>3</th>\n",
       "      <td>4</td>\n",
       "      <td>Waiting to Exhale (1995)</td>\n",
       "      <td>Comedy|Drama|Romance</td>\n",
       "    </tr>\n",
       "    <tr>\n",
       "      <th>4</th>\n",
       "      <td>5</td>\n",
       "      <td>Father of the Bride Part II (1995)</td>\n",
       "      <td>Comedy</td>\n",
       "    </tr>\n",
       "    <tr>\n",
       "      <th>...</th>\n",
       "      <td>...</td>\n",
       "      <td>...</td>\n",
       "      <td>...</td>\n",
       "    </tr>\n",
       "    <tr>\n",
       "      <th>9737</th>\n",
       "      <td>193581</td>\n",
       "      <td>Black Butler: Book of the Atlantic (2017)</td>\n",
       "      <td>Action|Animation|Comedy|Fantasy</td>\n",
       "    </tr>\n",
       "    <tr>\n",
       "      <th>9738</th>\n",
       "      <td>193583</td>\n",
       "      <td>No Game No Life: Zero (2017)</td>\n",
       "      <td>Animation|Comedy|Fantasy</td>\n",
       "    </tr>\n",
       "    <tr>\n",
       "      <th>9739</th>\n",
       "      <td>193585</td>\n",
       "      <td>Flint (2017)</td>\n",
       "      <td>Drama</td>\n",
       "    </tr>\n",
       "    <tr>\n",
       "      <th>9740</th>\n",
       "      <td>193587</td>\n",
       "      <td>Bungo Stray Dogs: Dead Apple (2018)</td>\n",
       "      <td>Action|Animation</td>\n",
       "    </tr>\n",
       "    <tr>\n",
       "      <th>9741</th>\n",
       "      <td>193609</td>\n",
       "      <td>Andrew Dice Clay: Dice Rules (1991)</td>\n",
       "      <td>Comedy</td>\n",
       "    </tr>\n",
       "  </tbody>\n",
       "</table>\n",
       "<p>9742 rows × 3 columns</p>\n",
       "</div>"
      ],
      "text/plain": [
       "      movieId                                      title  \\\n",
       "0           1                           Toy Story (1995)   \n",
       "1           2                             Jumanji (1995)   \n",
       "2           3                    Grumpier Old Men (1995)   \n",
       "3           4                   Waiting to Exhale (1995)   \n",
       "4           5         Father of the Bride Part II (1995)   \n",
       "...       ...                                        ...   \n",
       "9737   193581  Black Butler: Book of the Atlantic (2017)   \n",
       "9738   193583               No Game No Life: Zero (2017)   \n",
       "9739   193585                               Flint (2017)   \n",
       "9740   193587        Bungo Stray Dogs: Dead Apple (2018)   \n",
       "9741   193609        Andrew Dice Clay: Dice Rules (1991)   \n",
       "\n",
       "                                           genres  \n",
       "0     Adventure|Animation|Children|Comedy|Fantasy  \n",
       "1                      Adventure|Children|Fantasy  \n",
       "2                                  Comedy|Romance  \n",
       "3                            Comedy|Drama|Romance  \n",
       "4                                          Comedy  \n",
       "...                                           ...  \n",
       "9737              Action|Animation|Comedy|Fantasy  \n",
       "9738                     Animation|Comedy|Fantasy  \n",
       "9739                                        Drama  \n",
       "9740                             Action|Animation  \n",
       "9741                                       Comedy  \n",
       "\n",
       "[9742 rows x 3 columns]"
      ]
     },
     "execution_count": 61,
     "metadata": {},
     "output_type": "execute_result"
    }
   ],
   "source": [
    "movies"
   ]
  },
  {
   "cell_type": "code",
   "execution_count": 63,
   "id": "1460dff0",
   "metadata": {},
   "outputs": [],
   "source": [
    "sys.path.append(str(Path(\"../utils/preprocess_title.py\").resolve().parent.parent / \"utils\"))\n",
    "from preprocess_title import preprocess_title"
   ]
  },
  {
   "cell_type": "markdown",
   "id": "ebe83078",
   "metadata": {},
   "source": [
    "#### Data Preprocessing"
   ]
  },
  {
   "cell_type": "code",
   "execution_count": 64,
   "id": "ce96c3ad",
   "metadata": {},
   "outputs": [
    {
     "name": "stdout",
     "output_type": "stream",
     "text": [
      "Unique ratings: [4.  5.  3.  2.  1.  4.5 3.5 2.5 0.5 1.5]\n"
     ]
    }
   ],
   "source": [
    "print(\"Unique ratings:\", ratings['rating'].unique())"
   ]
  },
  {
   "cell_type": "code",
   "execution_count": 65,
   "id": "21dffca5",
   "metadata": {},
   "outputs": [],
   "source": [
    "def split_title_year(title):\n",
    "    match = re.search(r'\\((\\d{4})\\)', title)\n",
    "    year = match.group(1) if match else None\n",
    "    name = re.sub(r'\\s*\\(\\d{4}\\)', '', title)\n",
    "    return name.strip(), year"
   ]
  },
  {
   "cell_type": "markdown",
   "id": "9ab71b82",
   "metadata": {},
   "source": [
    "##### Split title into name , year (NOT-USED)"
   ]
  },
  {
   "cell_type": "code",
   "execution_count": 66,
   "id": "54d79d05",
   "metadata": {},
   "outputs": [],
   "source": [
    "movies[['name', 'year']] = movies['title'].apply(lambda x: pd.Series(split_title_year(x)))"
   ]
  },
  {
   "cell_type": "markdown",
   "id": "fd42b5f3",
   "metadata": {},
   "source": [
    "##### Handel title"
   ]
  },
  {
   "cell_type": "markdown",
   "id": "7cf83412",
   "metadata": {},
   "source": [
    "##### Handel genres + tfidf"
   ]
  },
  {
   "cell_type": "code",
   "execution_count": 67,
   "id": "ae364837",
   "metadata": {},
   "outputs": [],
   "source": [
    "movies['clean_name'] = movies['name'].apply(preprocess_title)\n",
    "\n",
    "movies['genres'] = movies['genres'].fillna('')\n",
    "tfidf = TfidfVectorizer(stop_words='english')\n",
    "tfidf_matrix = tfidf.fit_transform(movies['genres'])"
   ]
  },
  {
   "cell_type": "markdown",
   "id": "4c4a9e55",
   "metadata": {},
   "source": [
    "##### Cosin_sim"
   ]
  },
  {
   "cell_type": "code",
   "execution_count": 68,
   "id": "c5920e9f",
   "metadata": {},
   "outputs": [],
   "source": [
    "cosine_sim = cosine_similarity(tfidf_matrix, tfidf_matrix)"
   ]
  },
  {
   "cell_type": "markdown",
   "id": "8cfd71d7",
   "metadata": {},
   "source": [
    "#### content_based Model"
   ]
  },
  {
   "cell_type": "code",
   "execution_count": 69,
   "id": "b3771103",
   "metadata": {},
   "outputs": [],
   "source": [
    "def content_based_recommendations(movie_title, top_n=10):\n",
    "    movie_title_clean = preprocess_title(movie_title)\n",
    "\n",
    "    \n",
    "    if movie_title_clean not in movies['clean_name'].values:\n",
    "        print(f\"Movie '{movie_title}' not found in dataset.\")\n",
    "        return pd.DataFrame()\n",
    "\n",
    "\n",
    "    idx = movies[movies['clean_name'] == movie_title_clean].index[0] # Movie_ID\n",
    "    sim_scores = list(enumerate(cosine_sim[idx]))\n",
    "    sim_scores = sorted(sim_scores, key=lambda x: x[1], reverse=True)\n",
    "    sim_scores = sim_scores[1:top_n+1] # first Movie is the same movie\n",
    "    movie_indices = [i[0] for i in sim_scores] # Get Movie_ID\n",
    "\n",
    "\n",
    "    return movies.iloc[movie_indices][['title', 'movieId']]"
   ]
  },
  {
   "cell_type": "markdown",
   "id": "63e20815",
   "metadata": {},
   "source": [
    "#### collaborative Model"
   ]
  },
  {
   "cell_type": "code",
   "execution_count": 70,
   "id": "9edd3005",
   "metadata": {},
   "outputs": [
    {
     "data": {
      "text/plain": [
       "['../models/svd_model.pkl']"
      ]
     },
     "execution_count": 70,
     "metadata": {},
     "output_type": "execute_result"
    }
   ],
   "source": [
    "from surprise import SVD, Dataset, Reader\n",
    "import pandas as pd\n",
    "import joblib\n",
    "\n",
    "# Load ratings\n",
    "ratings = pd.read_csv(\"../data/ratings.csv\")\n",
    "reader = Reader(rating_scale=(ratings['rating'].min(), ratings['rating'].max()))\n",
    "data = Dataset.load_from_df(ratings[['userId', 'movieId', 'rating']], reader)\n",
    "\n",
    "# Train SVD model\n",
    "svd = SVD()\n",
    "trainset, testset = train_test_split(data, test_size=0.2, random_state=42)\n",
    "svd.fit(trainset)\n",
    "\n",
    "# Save model\n",
    "joblib.dump(svd, \"../models/svd_model.pkl\")"
   ]
  },
  {
   "cell_type": "code",
   "execution_count": 71,
   "id": "88e357f5",
   "metadata": {},
   "outputs": [],
   "source": [
    "def collaborative_recommendations(user_id, top_n=10):\n",
    "    user_rated_movies = ratings[ratings['userId'] == user_id]['movieId'].tolist() # get User rated_Movies\n",
    "    movie_ids = movies['movieId'].unique()\n",
    "    movies_to_predict = [mid for mid in movie_ids if mid not in user_rated_movies]\n",
    "    predictions = []\n",
    "\n",
    "    for movie_id in movies_to_predict:\n",
    "        pred = svd.predict(user_id, movie_id)\n",
    "        predictions.append((movie_id, pred.est))\n",
    "\n",
    "    predictions.sort(key=lambda x: x[1], reverse=True)\n",
    "    top_preds = predictions[:top_n]\n",
    "    movie_ids = [x[0] for x in top_preds]\n",
    "\n",
    "    return movies[movies['movieId'].isin(movie_ids)][['title', 'movieId']]"
   ]
  },
  {
   "cell_type": "markdown",
   "id": "78badf8c",
   "metadata": {},
   "source": [
    "#### hybrid Model"
   ]
  },
  {
   "cell_type": "code",
   "execution_count": 72,
   "id": "2e45623c",
   "metadata": {},
   "outputs": [],
   "source": [
    "\n",
    "def hybrid_recommendations(user_id, movie_title, top_n=10, content_weight=0.5, collab_weight=0.5):\n",
    "    content_recs = content_based_recommendations(movie_title, top_n=50)\n",
    "\n",
    "    if content_recs.empty:\n",
    "        return pd.DataFrame()\n",
    "\n",
    "    movie_ids = content_recs['movieId'].tolist()\n",
    "    collab_scores = []\n",
    "\n",
    "    for movie_id in movie_ids:\n",
    "        pred = svd.predict(user_id, movie_id)\n",
    "        collab_scores.append(pred.est)\n",
    "    \n",
    "    collab_scores_norm = (np.array(collab_scores) - np.min(collab_scores)) / (np.ptp(collab_scores) + 1e-8)\n",
    "    content_scores_norm = (np.array([cosine_sim[movies[movies['clean_name']==preprocess_title(movie_title)].index[0], movies[movies['movieId']==mid].index[0]] for mid in movie_ids]) - 0) / 1\n",
    "    hybrid_scores = content_weight*content_scores_norm + collab_weight*collab_scores_norm\n",
    "    \n",
    "    rec_df = content_recs.copy()\n",
    "    rec_df['score'] = hybrid_scores\n",
    "    rec_df = rec_df.sort_values(by='score', ascending=False).head(top_n)\n",
    "    \n",
    "    return rec_df[['title', 'movieId']]"
   ]
  },
  {
   "cell_type": "markdown",
   "id": "f3f52af5",
   "metadata": {},
   "source": [
    "#### Error Calc"
   ]
  },
  {
   "cell_type": "code",
   "execution_count": 73,
   "id": "f3e25b50",
   "metadata": {},
   "outputs": [],
   "source": [
    "predictions = svd.test(testset)\n",
    "rmse = accuracy.rmse(predictions, verbose=False)\n",
    "mae = accuracy.mae(predictions, verbose=False)"
   ]
  },
  {
   "cell_type": "code",
   "execution_count": 74,
   "id": "26489c42",
   "metadata": {},
   "outputs": [],
   "source": [
    "def precision_recall_f1(predictions, threshold=3.5):\n",
    "    y_true = [pred.r_ui >= threshold for pred in predictions]\n",
    "    y_pred = [pred.est >= threshold for pred in predictions]\n",
    "    precision = precision_score(y_true, y_pred)\n",
    "    recall = recall_score(y_true, y_pred)\n",
    "    f1 = f1_score(y_true, y_pred)\n",
    "    return precision, recall, f1\n",
    "\n",
    "precision, recall, f1 = precision_recall_f1(predictions)"
   ]
  },
  {
   "cell_type": "code",
   "execution_count": 75,
   "id": "fa68ec65",
   "metadata": {},
   "outputs": [
    {
     "name": "stdout",
     "output_type": "stream",
     "text": [
      "Content-Based Recommendations:\n",
      "                                                  title  movieId\n",
      "1706                                        Antz (1998)     2294\n",
      "2355                                 Toy Story 2 (1999)     3114\n",
      "2809     Adventures of Rocky and Bullwinkle, The (2000)     3754\n",
      "3000                   Emperor's New Groove, The (2000)     4016\n",
      "3568                              Monsters, Inc. (2001)     4886\n",
      "6194                                   Wild, The (2006)    45074\n",
      "6486                             Shrek the Third (2007)    53121\n",
      "6948                     Tale of Despereaux, The (2008)    65577\n",
      "7760  Asterix and the Vikings (Astérix et les Viking...    91355\n",
      "8219                                       Turbo (2013)   103755\n",
      "\n",
      "Collaborative Filtering Recommendations:\n",
      "                                                  title  movieId\n",
      "602   Dr. Strangelove or: How I Learned to Stop Worr...      750\n",
      "742                           African Queen, The (1951)      969\n",
      "878      Cinema Paradiso (Nuovo cinema Paradiso) (1989)     1172\n",
      "908                        To Kill a Mockingbird (1962)     1207\n",
      "909                               Apocalypse Now (1979)     1208\n",
      "923                            Full Metal Jacket (1987)     1222\n",
      "1494        Seven Samurai (Shichinin no samurai) (1954)     2019\n",
      "2743  For a Few Dollars More (Per qualche dollaro in...     3681\n",
      "2915                          Dancer in the Dark (2000)     3910\n",
      "4909       Eternal Sunshine of the Spotless Mind (2004)     7361\n",
      "\n",
      "Hybrid Recommendations:\n",
      "                                                  title  movieId\n",
      "6944                 Ponyo (Gake no ue no Ponyo) (2008)    65261\n",
      "3568                              Monsters, Inc. (2001)     4886\n",
      "3000                   Emperor's New Groove, The (2000)     4016\n",
      "2355                                 Toy Story 2 (1999)     3114\n",
      "1757                               Bug's Life, A (1998)     2355\n",
      "4360                                Finding Nemo (2003)     6377\n",
      "7184                               Partly Cloudy (2009)    72356\n",
      "5546  Kiki's Delivery Service (Majo no takkyûbin) (1...    26662\n",
      "8927                           The Good Dinosaur (2015)   136016\n",
      "9369                    Kubo and the Two Strings (2016)   162578\n",
      "\n",
      "Evaluation Metrics:\n",
      "RMSE: 0.8792\n",
      "MAE: 0.6752\n",
      "Precision: 0.7930\n",
      "Recall: 0.6821\n",
      "F1 Score: 0.7334\n"
     ]
    }
   ],
   "source": [
    "user_id = 15\n",
    "movie_title = \"Toy Story\"\n",
    "\n",
    "print(\"Content-Based Recommendations:\")\n",
    "print(content_based_recommendations(movie_title))\n",
    "\n",
    "print(\"\\nCollaborative Filtering Recommendations:\")\n",
    "print(collaborative_recommendations(user_id))\n",
    "\n",
    "print(\"\\nHybrid Recommendations:\")\n",
    "print(hybrid_recommendations(user_id, movie_title))\n",
    "\n",
    "print(f\"\\nEvaluation Metrics:\\nRMSE: {rmse:.4f}\\nMAE: {mae:.4f}\\nPrecision: {precision:.4f}\\nRecall: {recall:.4f}\\nF1 Score: {f1:.4f}\")"
   ]
  },
  {
   "cell_type": "code",
   "execution_count": 76,
   "id": "f4478ed2",
   "metadata": {},
   "outputs": [
    {
     "name": "stdout",
     "output_type": "stream",
     "text": [
      "✔️ Cosine similarity matrix saved as cosine_sim.npy\n"
     ]
    }
   ],
   "source": [
    "np.save(\"../models/cosine_sim.npy\", cosine_sim)\n",
    "print(\"✔️ Cosine similarity matrix saved as cosine_sim.npy\")\n"
   ]
  }
 ],
 "metadata": {
  "kernelspec": {
   "display_name": "Python 3",
   "language": "python",
   "name": "python3"
  },
  "language_info": {
   "codemirror_mode": {
    "name": "ipython",
    "version": 3
   },
   "file_extension": ".py",
   "mimetype": "text/x-python",
   "name": "python",
   "nbconvert_exporter": "python",
   "pygments_lexer": "ipython3",
   "version": "3.11.9"
  }
 },
 "nbformat": 4,
 "nbformat_minor": 5
}
